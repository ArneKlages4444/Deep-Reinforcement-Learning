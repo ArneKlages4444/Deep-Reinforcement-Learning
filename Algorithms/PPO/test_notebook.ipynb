{
 "cells": [
  {
   "cell_type": "code",
   "execution_count": null,
   "metadata": {},
   "outputs": [],
   "source": [
    "!pip install tensorboard"
   ]
  },
  {
   "cell_type": "code",
   "execution_count": null,
   "outputs": [],
   "source": [
    "!pip3 install gym[mujoco]"
   ],
   "metadata": {
    "collapsed": false,
    "pycharm": {
     "name": "#%%\n"
    }
   }
  },
  {
   "cell_type": "code",
   "execution_count": 4,
   "metadata": {
    "pycharm": {
     "name": "#%%\n"
    }
   },
   "outputs": [],
   "source": [
    "%load_ext tensorboard"
   ]
  },
  {
   "cell_type": "code",
   "execution_count": null,
   "metadata": {
    "pycharm": {
     "name": "#%%\n",
     "is_executing": true
    }
   },
   "outputs": [],
   "source": [
    "%tensorboard --logdir logs/"
   ]
  },
  {
   "cell_type": "code",
   "execution_count": null,
   "outputs": [],
   "source": [
    "from Agent import Agent\n",
    "import gymnasium as gym\n",
    "from functools import partial\n",
    "import tensorflow as tf\n",
    "from gymnasium.wrappers import NormalizeObservation\n",
    "\n",
    "# from generic_LSTMs import create_policy_network, create_value_network\n",
    "from GenericMLPs1D import create_policy_network, create_value_network\n",
    "\n",
    "env = gym.make(\"InvertedPendulum-v4\")\n",
    "\n",
    "env = NormalizeObservation(env)\n",
    "if __name__ == '__main__':\n",
    "    tf.keras.backend.clear_session()\n",
    "    env = gym.make('InvertedPendulum-v4')\n",
    "    norm_obs = False\n",
    "    if norm_obs:\n",
    "        env = NormalizeObservation(env)\n",
    "    print(\"state_dim=\", env.observation_space.shape, \"action_dim=\", env.action_space.shape[0], \"action_scaling:\",\n",
    "          env.action_space.high)\n",
    "    agent = Agent(environments=env,\n",
    "                  actor_network_generator=partial(create_policy_network, state_dim=env.observation_space.shape,\n",
    "                                                  action_dim=env.action_space.shape[0]),\n",
    "                  critic_network_generator=partial(create_value_network, state_dim=env.observation_space.shape),\n",
    "                  logs=True)\n",
    "\n",
    "    agent.train(epochs=1000, batch_size=64, sub_epochs=4, steps_per_trajectory=640)"
   ],
   "metadata": {
    "collapsed": false,
    "pycharm": {
     "name": "#%%\n",
     "is_executing": true
    }
   }
  },
  {
   "cell_type": "code",
   "execution_count": 15,
   "metadata": {
    "pycharm": {
     "name": "#%%\n"
    }
   },
   "outputs": [],
   "source": [
    "%reload_ext tensorboard"
   ]
  }
 ],
 "metadata": {
  "kernelspec": {
   "display_name": "Python 3 (ipykernel)",
   "language": "python",
   "name": "python3"
  },
  "language_info": {
   "codemirror_mode": {
    "name": "ipython",
    "version": 3
   },
   "file_extension": ".py",
   "mimetype": "text/x-python",
   "name": "python",
   "nbconvert_exporter": "python",
   "pygments_lexer": "ipython3",
   "version": "3.11.3"
  }
 },
 "nbformat": 4,
 "nbformat_minor": 1
}